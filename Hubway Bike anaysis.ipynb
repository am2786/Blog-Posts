{
 "cells": [
  {
   "cell_type": "code",
   "execution_count": 3,
   "metadata": {},
   "outputs": [
    {
     "name": "stdout",
     "output_type": "stream",
     "text": [
      "Populating the interactive namespace from numpy and matplotlib\n"
     ]
    }
   ],
   "source": [
    "import numpy as np\n",
    "import pandas as pd\n",
    "import matplotlib.pyplot as plt\n",
    "import sqlite3 as lite\n",
    "% matplotlib inline\n",
    "% pylab inline\n",
    "import sys\n",
    "import seaborn as sns;\n",
    "import folium;\n",
    "from folium import plugins;\n",
    "import urllib3;"
   ]
  },
  {
   "cell_type": "markdown",
   "metadata": {},
   "source": [
    "## Data Analysis with SQLite"
   ]
  },
  {
   "cell_type": "code",
   "execution_count": 4,
   "metadata": {
    "collapsed": true
   },
   "outputs": [],
   "source": [
    "con = lite.connect('hubway.db')"
   ]
  },
  {
   "cell_type": "code",
   "execution_count": 3,
   "metadata": {
    "collapsed": true
   },
   "outputs": [],
   "source": [
    "def run_query(query, database):\n",
    "    return pd.read_sql_query(query,database)"
   ]
  },
  {
   "cell_type": "code",
   "execution_count": 4,
   "metadata": {},
   "outputs": [
    {
     "data": {
      "text/html": [
       "<div>\n",
       "<style>\n",
       "    .dataframe thead tr:only-child th {\n",
       "        text-align: right;\n",
       "    }\n",
       "\n",
       "    .dataframe thead th {\n",
       "        text-align: left;\n",
       "    }\n",
       "\n",
       "    .dataframe tbody tr th {\n",
       "        vertical-align: top;\n",
       "    }\n",
       "</style>\n",
       "<table border=\"1\" class=\"dataframe\">\n",
       "  <thead>\n",
       "    <tr style=\"text-align: right;\">\n",
       "      <th></th>\n",
       "      <th>id</th>\n",
       "      <th>duration</th>\n",
       "      <th>start_date</th>\n",
       "      <th>start_station</th>\n",
       "      <th>end_date</th>\n",
       "      <th>end_station</th>\n",
       "      <th>bike_number</th>\n",
       "      <th>sub_type</th>\n",
       "      <th>zip_code</th>\n",
       "      <th>birth_date</th>\n",
       "      <th>gender</th>\n",
       "    </tr>\n",
       "  </thead>\n",
       "  <tbody>\n",
       "    <tr>\n",
       "      <th>0</th>\n",
       "      <td>1</td>\n",
       "      <td>9</td>\n",
       "      <td>2011-07-28 10:12:00</td>\n",
       "      <td>23</td>\n",
       "      <td>2011-07-28 10:12:00</td>\n",
       "      <td>23</td>\n",
       "      <td>B00468</td>\n",
       "      <td>Registered</td>\n",
       "      <td>'97217</td>\n",
       "      <td>1976.0</td>\n",
       "      <td>Male</td>\n",
       "    </tr>\n",
       "    <tr>\n",
       "      <th>1</th>\n",
       "      <td>2</td>\n",
       "      <td>220</td>\n",
       "      <td>2011-07-28 10:21:00</td>\n",
       "      <td>23</td>\n",
       "      <td>2011-07-28 10:25:00</td>\n",
       "      <td>23</td>\n",
       "      <td>B00554</td>\n",
       "      <td>Registered</td>\n",
       "      <td>'02215</td>\n",
       "      <td>1966.0</td>\n",
       "      <td>Male</td>\n",
       "    </tr>\n",
       "    <tr>\n",
       "      <th>2</th>\n",
       "      <td>3</td>\n",
       "      <td>56</td>\n",
       "      <td>2011-07-28 10:33:00</td>\n",
       "      <td>23</td>\n",
       "      <td>2011-07-28 10:34:00</td>\n",
       "      <td>23</td>\n",
       "      <td>B00456</td>\n",
       "      <td>Registered</td>\n",
       "      <td>'02108</td>\n",
       "      <td>1943.0</td>\n",
       "      <td>Male</td>\n",
       "    </tr>\n",
       "    <tr>\n",
       "      <th>3</th>\n",
       "      <td>4</td>\n",
       "      <td>64</td>\n",
       "      <td>2011-07-28 10:35:00</td>\n",
       "      <td>23</td>\n",
       "      <td>2011-07-28 10:36:00</td>\n",
       "      <td>23</td>\n",
       "      <td>B00554</td>\n",
       "      <td>Registered</td>\n",
       "      <td>'02116</td>\n",
       "      <td>1981.0</td>\n",
       "      <td>Female</td>\n",
       "    </tr>\n",
       "    <tr>\n",
       "      <th>4</th>\n",
       "      <td>5</td>\n",
       "      <td>12</td>\n",
       "      <td>2011-07-28 10:37:00</td>\n",
       "      <td>23</td>\n",
       "      <td>2011-07-28 10:37:00</td>\n",
       "      <td>23</td>\n",
       "      <td>B00554</td>\n",
       "      <td>Registered</td>\n",
       "      <td>'97214</td>\n",
       "      <td>1983.0</td>\n",
       "      <td>Female</td>\n",
       "    </tr>\n",
       "  </tbody>\n",
       "</table>\n",
       "</div>"
      ],
      "text/plain": [
       "   id  duration           start_date  start_station             end_date  \\\n",
       "0   1         9  2011-07-28 10:12:00             23  2011-07-28 10:12:00   \n",
       "1   2       220  2011-07-28 10:21:00             23  2011-07-28 10:25:00   \n",
       "2   3        56  2011-07-28 10:33:00             23  2011-07-28 10:34:00   \n",
       "3   4        64  2011-07-28 10:35:00             23  2011-07-28 10:36:00   \n",
       "4   5        12  2011-07-28 10:37:00             23  2011-07-28 10:37:00   \n",
       "\n",
       "   end_station bike_number    sub_type zip_code  birth_date  gender  \n",
       "0           23      B00468  Registered   '97217      1976.0    Male  \n",
       "1           23      B00554  Registered   '02215      1966.0    Male  \n",
       "2           23      B00456  Registered   '02108      1943.0    Male  \n",
       "3           23      B00554  Registered   '02116      1981.0  Female  \n",
       "4           23      B00554  Registered   '97214      1983.0  Female  "
      ]
     },
     "execution_count": 4,
     "metadata": {},
     "output_type": "execute_result"
    }
   ],
   "source": [
    "query = 'SELECT * FROM trips LIMIT 5;'\n",
    "run_query(query, con)"
   ]
  },
  {
   "cell_type": "code",
   "execution_count": 5,
   "metadata": {},
   "outputs": [
    {
     "data": {
      "text/html": [
       "<div>\n",
       "<style>\n",
       "    .dataframe thead tr:only-child th {\n",
       "        text-align: right;\n",
       "    }\n",
       "\n",
       "    .dataframe thead th {\n",
       "        text-align: left;\n",
       "    }\n",
       "\n",
       "    .dataframe tbody tr th {\n",
       "        vertical-align: top;\n",
       "    }\n",
       "</style>\n",
       "<table border=\"1\" class=\"dataframe\">\n",
       "  <thead>\n",
       "    <tr style=\"text-align: right;\">\n",
       "      <th></th>\n",
       "      <th>duration</th>\n",
       "    </tr>\n",
       "  </thead>\n",
       "  <tbody>\n",
       "    <tr>\n",
       "      <th>0</th>\n",
       "      <td>9999</td>\n",
       "    </tr>\n",
       "    <tr>\n",
       "      <th>1</th>\n",
       "      <td>9998</td>\n",
       "    </tr>\n",
       "    <tr>\n",
       "      <th>2</th>\n",
       "      <td>9998</td>\n",
       "    </tr>\n",
       "    <tr>\n",
       "      <th>3</th>\n",
       "      <td>9997</td>\n",
       "    </tr>\n",
       "    <tr>\n",
       "      <th>4</th>\n",
       "      <td>9996</td>\n",
       "    </tr>\n",
       "  </tbody>\n",
       "</table>\n",
       "</div>"
      ],
      "text/plain": [
       "   duration\n",
       "0      9999\n",
       "1      9998\n",
       "2      9998\n",
       "3      9997\n",
       "4      9996"
      ]
     },
     "execution_count": 5,
     "metadata": {},
     "output_type": "execute_result"
    }
   ],
   "source": [
    "query = 'SELECT duration FROM trips ORDER BY duration DESC LIMIT 5;'\n",
    "run_query(query, con)"
   ]
  },
  {
   "cell_type": "code",
   "execution_count": 6,
   "metadata": {},
   "outputs": [
    {
     "data": {
      "text/html": [
       "<div>\n",
       "<style>\n",
       "    .dataframe thead tr:only-child th {\n",
       "        text-align: right;\n",
       "    }\n",
       "\n",
       "    .dataframe thead th {\n",
       "        text-align: left;\n",
       "    }\n",
       "\n",
       "    .dataframe tbody tr th {\n",
       "        vertical-align: top;\n",
       "    }\n",
       "</style>\n",
       "<table border=\"1\" class=\"dataframe\">\n",
       "  <thead>\n",
       "    <tr style=\"text-align: right;\">\n",
       "      <th></th>\n",
       "      <th>duration</th>\n",
       "    </tr>\n",
       "  </thead>\n",
       "  <tbody>\n",
       "    <tr>\n",
       "      <th>0</th>\n",
       "      <td>0</td>\n",
       "    </tr>\n",
       "    <tr>\n",
       "      <th>1</th>\n",
       "      <td>0</td>\n",
       "    </tr>\n",
       "    <tr>\n",
       "      <th>2</th>\n",
       "      <td>0</td>\n",
       "    </tr>\n",
       "    <tr>\n",
       "      <th>3</th>\n",
       "      <td>0</td>\n",
       "    </tr>\n",
       "    <tr>\n",
       "      <th>4</th>\n",
       "      <td>0</td>\n",
       "    </tr>\n",
       "  </tbody>\n",
       "</table>\n",
       "</div>"
      ],
      "text/plain": [
       "   duration\n",
       "0         0\n",
       "1         0\n",
       "2         0\n",
       "3         0\n",
       "4         0"
      ]
     },
     "execution_count": 6,
     "metadata": {},
     "output_type": "execute_result"
    }
   ],
   "source": [
    "query = 'SELECT duration FROM trips ORDER BY duration ASC LIMIT 5;'\n",
    "run_query(query, con)"
   ]
  },
  {
   "cell_type": "code",
   "execution_count": 7,
   "metadata": {},
   "outputs": [
    {
     "data": {
      "text/html": [
       "<div>\n",
       "<style>\n",
       "    .dataframe thead tr:only-child th {\n",
       "        text-align: right;\n",
       "    }\n",
       "\n",
       "    .dataframe thead th {\n",
       "        text-align: left;\n",
       "    }\n",
       "\n",
       "    .dataframe tbody tr th {\n",
       "        vertical-align: top;\n",
       "    }\n",
       "</style>\n",
       "<table border=\"1\" class=\"dataframe\">\n",
       "  <thead>\n",
       "    <tr style=\"text-align: right;\">\n",
       "      <th></th>\n",
       "      <th>start_date</th>\n",
       "    </tr>\n",
       "  </thead>\n",
       "  <tbody>\n",
       "    <tr>\n",
       "      <th>0</th>\n",
       "      <td>2013-11-30 23:39:00</td>\n",
       "    </tr>\n",
       "    <tr>\n",
       "      <th>1</th>\n",
       "      <td>2013-11-30 23:36:00</td>\n",
       "    </tr>\n",
       "    <tr>\n",
       "      <th>2</th>\n",
       "      <td>2013-11-30 23:32:00</td>\n",
       "    </tr>\n",
       "    <tr>\n",
       "      <th>3</th>\n",
       "      <td>2013-11-30 23:32:00</td>\n",
       "    </tr>\n",
       "    <tr>\n",
       "      <th>4</th>\n",
       "      <td>2013-11-30 23:30:00</td>\n",
       "    </tr>\n",
       "  </tbody>\n",
       "</table>\n",
       "</div>"
      ],
      "text/plain": [
       "            start_date\n",
       "0  2013-11-30 23:39:00\n",
       "1  2013-11-30 23:36:00\n",
       "2  2013-11-30 23:32:00\n",
       "3  2013-11-30 23:32:00\n",
       "4  2013-11-30 23:30:00"
      ]
     },
     "execution_count": 7,
     "metadata": {},
     "output_type": "execute_result"
    }
   ],
   "source": [
    "query = 'SELECT start_date FROM trips ORDER BY start_date DESC LIMIT 5;'\n",
    "run_query(query, con)"
   ]
  },
  {
   "cell_type": "code",
   "execution_count": 8,
   "metadata": {},
   "outputs": [
    {
     "data": {
      "text/html": [
       "<div>\n",
       "<style>\n",
       "    .dataframe thead tr:only-child th {\n",
       "        text-align: right;\n",
       "    }\n",
       "\n",
       "    .dataframe thead th {\n",
       "        text-align: left;\n",
       "    }\n",
       "\n",
       "    .dataframe tbody tr th {\n",
       "        vertical-align: top;\n",
       "    }\n",
       "</style>\n",
       "<table border=\"1\" class=\"dataframe\">\n",
       "  <thead>\n",
       "    <tr style=\"text-align: right;\">\n",
       "      <th></th>\n",
       "      <th>start_date</th>\n",
       "    </tr>\n",
       "  </thead>\n",
       "  <tbody>\n",
       "    <tr>\n",
       "      <th>0</th>\n",
       "      <td>2011-07-28 10:12:00</td>\n",
       "    </tr>\n",
       "    <tr>\n",
       "      <th>1</th>\n",
       "      <td>2011-07-28 10:21:00</td>\n",
       "    </tr>\n",
       "    <tr>\n",
       "      <th>2</th>\n",
       "      <td>2011-07-28 10:33:00</td>\n",
       "    </tr>\n",
       "    <tr>\n",
       "      <th>3</th>\n",
       "      <td>2011-07-28 10:35:00</td>\n",
       "    </tr>\n",
       "    <tr>\n",
       "      <th>4</th>\n",
       "      <td>2011-07-28 10:37:00</td>\n",
       "    </tr>\n",
       "  </tbody>\n",
       "</table>\n",
       "</div>"
      ],
      "text/plain": [
       "            start_date\n",
       "0  2011-07-28 10:12:00\n",
       "1  2011-07-28 10:21:00\n",
       "2  2011-07-28 10:33:00\n",
       "3  2011-07-28 10:35:00\n",
       "4  2011-07-28 10:37:00"
      ]
     },
     "execution_count": 8,
     "metadata": {},
     "output_type": "execute_result"
    }
   ],
   "source": [
    "query = 'SELECT start_date FROM trips ORDER BY start_date ASC LIMIT 5;'\n",
    "run_query(query, con)"
   ]
  },
  {
   "cell_type": "code",
   "execution_count": 9,
   "metadata": {},
   "outputs": [
    {
     "data": {
      "text/html": [
       "<div>\n",
       "<style>\n",
       "    .dataframe thead tr:only-child th {\n",
       "        text-align: right;\n",
       "    }\n",
       "\n",
       "    .dataframe thead th {\n",
       "        text-align: left;\n",
       "    }\n",
       "\n",
       "    .dataframe tbody tr th {\n",
       "        vertical-align: top;\n",
       "    }\n",
       "</style>\n",
       "<table border=\"1\" class=\"dataframe\">\n",
       "  <thead>\n",
       "    <tr style=\"text-align: right;\">\n",
       "      <th></th>\n",
       "      <th>id</th>\n",
       "      <th>duration</th>\n",
       "      <th>start_date</th>\n",
       "      <th>start_station</th>\n",
       "      <th>end_date</th>\n",
       "      <th>end_station</th>\n",
       "      <th>bike_number</th>\n",
       "      <th>sub_type</th>\n",
       "      <th>zip_code</th>\n",
       "      <th>birth_date</th>\n",
       "      <th>gender</th>\n",
       "    </tr>\n",
       "  </thead>\n",
       "  <tbody>\n",
       "    <tr>\n",
       "      <th>0</th>\n",
       "      <td>541247</td>\n",
       "      <td>9999</td>\n",
       "      <td>2012-09-26 18:34:00</td>\n",
       "      <td>54</td>\n",
       "      <td>2012-09-26 21:21:00</td>\n",
       "      <td>54</td>\n",
       "      <td>T01078</td>\n",
       "      <td>Casual</td>\n",
       "      <td></td>\n",
       "      <td></td>\n",
       "      <td></td>\n",
       "    </tr>\n",
       "    <tr>\n",
       "      <th>1</th>\n",
       "      <td>11341</td>\n",
       "      <td>9998</td>\n",
       "      <td>2011-08-09 10:42:00</td>\n",
       "      <td>40</td>\n",
       "      <td>2011-08-09 13:29:00</td>\n",
       "      <td>42</td>\n",
       "      <td>B00513</td>\n",
       "      <td>Casual</td>\n",
       "      <td></td>\n",
       "      <td></td>\n",
       "      <td></td>\n",
       "    </tr>\n",
       "    <tr>\n",
       "      <th>2</th>\n",
       "      <td>416523</td>\n",
       "      <td>9998</td>\n",
       "      <td>2012-08-15 12:11:00</td>\n",
       "      <td>54</td>\n",
       "      <td>2012-08-15 14:58:00</td>\n",
       "      <td>80</td>\n",
       "      <td>B00188</td>\n",
       "      <td>Casual</td>\n",
       "      <td></td>\n",
       "      <td></td>\n",
       "      <td></td>\n",
       "    </tr>\n",
       "    <tr>\n",
       "      <th>3</th>\n",
       "      <td>89335</td>\n",
       "      <td>9997</td>\n",
       "      <td>2011-10-09 02:30:00</td>\n",
       "      <td>60</td>\n",
       "      <td>2011-10-09 05:17:00</td>\n",
       "      <td>45</td>\n",
       "      <td>B00047</td>\n",
       "      <td>Casual</td>\n",
       "      <td></td>\n",
       "      <td></td>\n",
       "      <td></td>\n",
       "    </tr>\n",
       "    <tr>\n",
       "      <th>4</th>\n",
       "      <td>133967</td>\n",
       "      <td>9996</td>\n",
       "      <td>2011-11-19 13:48:00</td>\n",
       "      <td>4</td>\n",
       "      <td>2011-11-19 16:35:00</td>\n",
       "      <td>58</td>\n",
       "      <td>B00238</td>\n",
       "      <td>Casual</td>\n",
       "      <td></td>\n",
       "      <td></td>\n",
       "      <td></td>\n",
       "    </tr>\n",
       "    <tr>\n",
       "      <th>5</th>\n",
       "      <td>147451</td>\n",
       "      <td>9996</td>\n",
       "      <td>2012-03-23 14:48:00</td>\n",
       "      <td>35</td>\n",
       "      <td>2012-03-23 17:35:00</td>\n",
       "      <td>33</td>\n",
       "      <td>B00550</td>\n",
       "      <td>Casual</td>\n",
       "      <td></td>\n",
       "      <td></td>\n",
       "      <td></td>\n",
       "    </tr>\n",
       "    <tr>\n",
       "      <th>6</th>\n",
       "      <td>24455</td>\n",
       "      <td>9995</td>\n",
       "      <td>2011-08-20 12:20:00</td>\n",
       "      <td>52</td>\n",
       "      <td>2011-08-20 15:07:00</td>\n",
       "      <td>17</td>\n",
       "      <td>B00552</td>\n",
       "      <td>Casual</td>\n",
       "      <td></td>\n",
       "      <td></td>\n",
       "      <td></td>\n",
       "    </tr>\n",
       "    <tr>\n",
       "      <th>7</th>\n",
       "      <td>315737</td>\n",
       "      <td>9995</td>\n",
       "      <td>2012-07-03 18:28:00</td>\n",
       "      <td>12</td>\n",
       "      <td>2012-07-03 21:15:00</td>\n",
       "      <td>12</td>\n",
       "      <td>B00250</td>\n",
       "      <td>Registered</td>\n",
       "      <td>'02120</td>\n",
       "      <td>1964</td>\n",
       "      <td>Male</td>\n",
       "    </tr>\n",
       "    <tr>\n",
       "      <th>8</th>\n",
       "      <td>4768</td>\n",
       "      <td>9994</td>\n",
       "      <td>2011-08-03 17:16:00</td>\n",
       "      <td>22</td>\n",
       "      <td>2011-08-03 20:03:00</td>\n",
       "      <td>24</td>\n",
       "      <td>B00002</td>\n",
       "      <td>Casual</td>\n",
       "      <td></td>\n",
       "      <td></td>\n",
       "      <td></td>\n",
       "    </tr>\n",
       "    <tr>\n",
       "      <th>9</th>\n",
       "      <td>55771</td>\n",
       "      <td>9994</td>\n",
       "      <td>2011-09-14 15:44:00</td>\n",
       "      <td>40</td>\n",
       "      <td>2011-09-14 18:30:00</td>\n",
       "      <td>40</td>\n",
       "      <td>B00139</td>\n",
       "      <td>Casual</td>\n",
       "      <td></td>\n",
       "      <td></td>\n",
       "      <td></td>\n",
       "    </tr>\n",
       "    <tr>\n",
       "      <th>10</th>\n",
       "      <td>319597</td>\n",
       "      <td>9994</td>\n",
       "      <td>2012-07-05 11:49:00</td>\n",
       "      <td>52</td>\n",
       "      <td>2012-07-05 14:35:00</td>\n",
       "      <td>55</td>\n",
       "      <td>B00237</td>\n",
       "      <td>Casual</td>\n",
       "      <td></td>\n",
       "      <td></td>\n",
       "      <td></td>\n",
       "    </tr>\n",
       "    <tr>\n",
       "      <th>11</th>\n",
       "      <td>81191</td>\n",
       "      <td>9993</td>\n",
       "      <td>2011-10-03 11:30:00</td>\n",
       "      <td>22</td>\n",
       "      <td>2011-10-03 14:16:00</td>\n",
       "      <td>36</td>\n",
       "      <td>B00474</td>\n",
       "      <td>Casual</td>\n",
       "      <td></td>\n",
       "      <td></td>\n",
       "      <td></td>\n",
       "    </tr>\n",
       "    <tr>\n",
       "      <th>12</th>\n",
       "      <td>124500</td>\n",
       "      <td>9992</td>\n",
       "      <td>2011-11-09 09:08:00</td>\n",
       "      <td>22</td>\n",
       "      <td>2011-11-09 11:55:00</td>\n",
       "      <td>40</td>\n",
       "      <td>B00387</td>\n",
       "      <td>Casual</td>\n",
       "      <td></td>\n",
       "      <td></td>\n",
       "      <td></td>\n",
       "    </tr>\n",
       "    <tr>\n",
       "      <th>13</th>\n",
       "      <td>8448</td>\n",
       "      <td>9991</td>\n",
       "      <td>2011-08-06 13:02:00</td>\n",
       "      <td>52</td>\n",
       "      <td>2011-08-06 15:48:00</td>\n",
       "      <td>24</td>\n",
       "      <td>B00174</td>\n",
       "      <td>Casual</td>\n",
       "      <td></td>\n",
       "      <td></td>\n",
       "      <td></td>\n",
       "    </tr>\n",
       "  </tbody>\n",
       "</table>\n",
       "</div>"
      ],
      "text/plain": [
       "        id  duration           start_date  start_station             end_date  \\\n",
       "0   541247      9999  2012-09-26 18:34:00             54  2012-09-26 21:21:00   \n",
       "1    11341      9998  2011-08-09 10:42:00             40  2011-08-09 13:29:00   \n",
       "2   416523      9998  2012-08-15 12:11:00             54  2012-08-15 14:58:00   \n",
       "3    89335      9997  2011-10-09 02:30:00             60  2011-10-09 05:17:00   \n",
       "4   133967      9996  2011-11-19 13:48:00              4  2011-11-19 16:35:00   \n",
       "5   147451      9996  2012-03-23 14:48:00             35  2012-03-23 17:35:00   \n",
       "6    24455      9995  2011-08-20 12:20:00             52  2011-08-20 15:07:00   \n",
       "7   315737      9995  2012-07-03 18:28:00             12  2012-07-03 21:15:00   \n",
       "8     4768      9994  2011-08-03 17:16:00             22  2011-08-03 20:03:00   \n",
       "9    55771      9994  2011-09-14 15:44:00             40  2011-09-14 18:30:00   \n",
       "10  319597      9994  2012-07-05 11:49:00             52  2012-07-05 14:35:00   \n",
       "11   81191      9993  2011-10-03 11:30:00             22  2011-10-03 14:16:00   \n",
       "12  124500      9992  2011-11-09 09:08:00             22  2011-11-09 11:55:00   \n",
       "13    8448      9991  2011-08-06 13:02:00             52  2011-08-06 15:48:00   \n",
       "\n",
       "    end_station bike_number    sub_type zip_code birth_date gender  \n",
       "0            54      T01078      Casual                             \n",
       "1            42      B00513      Casual                             \n",
       "2            80      B00188      Casual                             \n",
       "3            45      B00047      Casual                             \n",
       "4            58      B00238      Casual                             \n",
       "5            33      B00550      Casual                             \n",
       "6            17      B00552      Casual                             \n",
       "7            12      B00250  Registered   '02120       1964   Male  \n",
       "8            24      B00002      Casual                             \n",
       "9            40      B00139      Casual                             \n",
       "10           55      B00237      Casual                             \n",
       "11           36      B00474      Casual                             \n",
       "12           40      B00387      Casual                             \n",
       "13           24      B00174      Casual                             "
      ]
     },
     "execution_count": 9,
     "metadata": {},
     "output_type": "execute_result"
    }
   ],
   "source": [
    "query = 'SELECT * FROM trips WHERE (duration >= 9990) ORDER BY duration DESC;' \n",
    "run_query(query, con)"
   ]
  },
  {
   "cell_type": "code",
   "execution_count": 35,
   "metadata": {},
   "outputs": [
    {
     "data": {
      "text/html": [
       "<div>\n",
       "<style>\n",
       "    .dataframe thead tr:only-child th {\n",
       "        text-align: right;\n",
       "    }\n",
       "\n",
       "    .dataframe thead th {\n",
       "        text-align: left;\n",
       "    }\n",
       "\n",
       "    .dataframe tbody tr th {\n",
       "        vertical-align: top;\n",
       "    }\n",
       "</style>\n",
       "<table border=\"1\" class=\"dataframe\">\n",
       "  <thead>\n",
       "    <tr style=\"text-align: right;\">\n",
       "      <th></th>\n",
       "      <th>Registered trips</th>\n",
       "    </tr>\n",
       "  </thead>\n",
       "  <tbody>\n",
       "    <tr>\n",
       "      <th>0</th>\n",
       "      <td>1105192</td>\n",
       "    </tr>\n",
       "  </tbody>\n",
       "</table>\n",
       "</div>"
      ],
      "text/plain": [
       "   Registered trips\n",
       "0           1105192"
      ]
     },
     "execution_count": 35,
     "metadata": {},
     "output_type": "execute_result"
    }
   ],
   "source": [
    "query = 'SELECT COUNT(*) AS \"Registered trips\" FROM trips WHERE sub_type = \"Registered\" ;'\n",
    "run_query(query, con)"
   ]
  },
  {
   "cell_type": "code",
   "execution_count": 34,
   "metadata": {},
   "outputs": [
    {
     "data": {
      "text/html": [
       "<div>\n",
       "<style>\n",
       "    .dataframe thead tr:only-child th {\n",
       "        text-align: right;\n",
       "    }\n",
       "\n",
       "    .dataframe thead th {\n",
       "        text-align: left;\n",
       "    }\n",
       "\n",
       "    .dataframe tbody tr th {\n",
       "        vertical-align: top;\n",
       "    }\n",
       "</style>\n",
       "<table border=\"1\" class=\"dataframe\">\n",
       "  <thead>\n",
       "    <tr style=\"text-align: right;\">\n",
       "      <th></th>\n",
       "      <th>Casual trips</th>\n",
       "    </tr>\n",
       "  </thead>\n",
       "  <tbody>\n",
       "    <tr>\n",
       "      <th>0</th>\n",
       "      <td>464809</td>\n",
       "    </tr>\n",
       "  </tbody>\n",
       "</table>\n",
       "</div>"
      ],
      "text/plain": [
       "   Casual trips\n",
       "0        464809"
      ]
     },
     "execution_count": 34,
     "metadata": {},
     "output_type": "execute_result"
    }
   ],
   "source": [
    "query = 'SELECT COUNT(*) AS \"Casual trips\" FROM trips WHERE sub_type = \"Casual\" ;'\n",
    "run_query(query, con)"
   ]
  },
  {
   "cell_type": "code",
   "execution_count": 37,
   "metadata": {},
   "outputs": [
    {
     "data": {
      "text/html": [
       "<div>\n",
       "<style>\n",
       "    .dataframe thead tr:only-child th {\n",
       "        text-align: right;\n",
       "    }\n",
       "\n",
       "    .dataframe thead th {\n",
       "        text-align: left;\n",
       "    }\n",
       "\n",
       "    .dataframe tbody tr th {\n",
       "        vertical-align: top;\n",
       "    }\n",
       "</style>\n",
       "<table border=\"1\" class=\"dataframe\">\n",
       "  <thead>\n",
       "    <tr style=\"text-align: right;\">\n",
       "      <th></th>\n",
       "      <th>Customer Type</th>\n",
       "      <th>Average Duration</th>\n",
       "    </tr>\n",
       "  </thead>\n",
       "  <tbody>\n",
       "    <tr>\n",
       "      <th>0</th>\n",
       "      <td>Casual</td>\n",
       "      <td>1519.643897</td>\n",
       "    </tr>\n",
       "    <tr>\n",
       "      <th>1</th>\n",
       "      <td>Registered</td>\n",
       "      <td>657.026067</td>\n",
       "    </tr>\n",
       "  </tbody>\n",
       "</table>\n",
       "</div>"
      ],
      "text/plain": [
       "  Customer Type  Average Duration\n",
       "0        Casual       1519.643897\n",
       "1    Registered        657.026067"
      ]
     },
     "execution_count": 37,
     "metadata": {},
     "output_type": "execute_result"
    }
   ],
   "source": [
    "query = 'SELECT sub_type AS \"Customer Type\", AVG(duration) AS \"Average Duration\" FROM trips GROUP BY sub_type;'\n",
    "\n",
    "run_query(query, con)"
   ]
  },
  {
   "cell_type": "code",
   "execution_count": 17,
   "metadata": {},
   "outputs": [
    {
     "data": {
      "text/html": [
       "<div>\n",
       "<style>\n",
       "    .dataframe thead tr:only-child th {\n",
       "        text-align: right;\n",
       "    }\n",
       "\n",
       "    .dataframe thead th {\n",
       "        text-align: left;\n",
       "    }\n",
       "\n",
       "    .dataframe tbody tr th {\n",
       "        vertical-align: top;\n",
       "    }\n",
       "</style>\n",
       "<table border=\"1\" class=\"dataframe\">\n",
       "  <thead>\n",
       "    <tr style=\"text-align: right;\">\n",
       "      <th></th>\n",
       "      <th>AVG(duration)</th>\n",
       "    </tr>\n",
       "  </thead>\n",
       "  <tbody>\n",
       "    <tr>\n",
       "      <th>0</th>\n",
       "      <td>923.014685</td>\n",
       "    </tr>\n",
       "  </tbody>\n",
       "</table>\n",
       "</div>"
      ],
      "text/plain": [
       "   AVG(duration)\n",
       "0     923.014685"
      ]
     },
     "execution_count": 17,
     "metadata": {},
     "output_type": "execute_result"
    }
   ],
   "source": [
    "query = '''\n",
    "SELECT AVG(duration) FROM trips WHERE (2017 - birth_date) > 30; '''\n",
    "\n",
    "run_query(query, con)"
   ]
  },
  {
   "cell_type": "code",
   "execution_count": 48,
   "metadata": {},
   "outputs": [
    {
     "data": {
      "text/html": [
       "<div>\n",
       "<style>\n",
       "    .dataframe thead tr:only-child th {\n",
       "        text-align: right;\n",
       "    }\n",
       "\n",
       "    .dataframe thead th {\n",
       "        text-align: left;\n",
       "    }\n",
       "\n",
       "    .dataframe tbody tr th {\n",
       "        vertical-align: top;\n",
       "    }\n",
       "</style>\n",
       "<table border=\"1\" class=\"dataframe\">\n",
       "  <thead>\n",
       "    <tr style=\"text-align: right;\">\n",
       "      <th></th>\n",
       "      <th>AVG(duration)</th>\n",
       "    </tr>\n",
       "  </thead>\n",
       "  <tbody>\n",
       "    <tr>\n",
       "      <th>0</th>\n",
       "      <td>644.518993</td>\n",
       "    </tr>\n",
       "  </tbody>\n",
       "</table>\n",
       "</div>"
      ],
      "text/plain": [
       "   AVG(duration)\n",
       "0     644.518993"
      ]
     },
     "execution_count": 48,
     "metadata": {},
     "output_type": "execute_result"
    }
   ],
   "source": [
    "query = '''\n",
    "SELECT AVG(duration) FROM trips WHERE (2017 - birth_date) < 31 ; '''\n",
    "\n",
    "run_query(query, con)"
   ]
  },
  {
   "cell_type": "code",
   "execution_count": 50,
   "metadata": {},
   "outputs": [
    {
     "data": {
      "text/html": [
       "<div>\n",
       "<style>\n",
       "    .dataframe thead tr:only-child th {\n",
       "        text-align: right;\n",
       "    }\n",
       "\n",
       "    .dataframe thead th {\n",
       "        text-align: left;\n",
       "    }\n",
       "\n",
       "    .dataframe tbody tr th {\n",
       "        vertical-align: top;\n",
       "    }\n",
       "</style>\n",
       "<table border=\"1\" class=\"dataframe\">\n",
       "  <thead>\n",
       "    <tr style=\"text-align: right;\">\n",
       "      <th></th>\n",
       "      <th>id</th>\n",
       "      <th>station</th>\n",
       "      <th>municipality</th>\n",
       "      <th>lat</th>\n",
       "      <th>lng</th>\n",
       "    </tr>\n",
       "  </thead>\n",
       "  <tbody>\n",
       "    <tr>\n",
       "      <th>0</th>\n",
       "      <td>3</td>\n",
       "      <td>Colleges of the Fenway</td>\n",
       "      <td>Boston</td>\n",
       "      <td>42.340021</td>\n",
       "      <td>-71.100812</td>\n",
       "    </tr>\n",
       "    <tr>\n",
       "      <th>1</th>\n",
       "      <td>4</td>\n",
       "      <td>Tremont St. at Berkeley St.</td>\n",
       "      <td>Boston</td>\n",
       "      <td>42.345392</td>\n",
       "      <td>-71.069616</td>\n",
       "    </tr>\n",
       "    <tr>\n",
       "      <th>2</th>\n",
       "      <td>5</td>\n",
       "      <td>Northeastern U / North Parking Lot</td>\n",
       "      <td>Boston</td>\n",
       "      <td>42.341814</td>\n",
       "      <td>-71.090179</td>\n",
       "    </tr>\n",
       "    <tr>\n",
       "      <th>3</th>\n",
       "      <td>6</td>\n",
       "      <td>Cambridge St. at Joy St.</td>\n",
       "      <td>Boston</td>\n",
       "      <td>42.361284999999995</td>\n",
       "      <td>-71.06514</td>\n",
       "    </tr>\n",
       "    <tr>\n",
       "      <th>4</th>\n",
       "      <td>7</td>\n",
       "      <td>Fan Pier</td>\n",
       "      <td>Boston</td>\n",
       "      <td>42.353412</td>\n",
       "      <td>-71.044624</td>\n",
       "    </tr>\n",
       "  </tbody>\n",
       "</table>\n",
       "</div>"
      ],
      "text/plain": [
       "   id                             station municipality                 lat  \\\n",
       "0   3              Colleges of the Fenway       Boston           42.340021   \n",
       "1   4         Tremont St. at Berkeley St.       Boston           42.345392   \n",
       "2   5  Northeastern U / North Parking Lot       Boston           42.341814   \n",
       "3   6            Cambridge St. at Joy St.       Boston  42.361284999999995   \n",
       "4   7                            Fan Pier       Boston           42.353412   \n",
       "\n",
       "          lng  \n",
       "0  -71.100812  \n",
       "1  -71.069616  \n",
       "2  -71.090179  \n",
       "3   -71.06514  \n",
       "4  -71.044624  "
      ]
     },
     "execution_count": 50,
     "metadata": {},
     "output_type": "execute_result"
    }
   ],
   "source": [
    "query = ''' SELECT * FROM stations LIMIT 5; '''\n",
    "run_query(query, con)"
   ]
  },
  {
   "cell_type": "code",
   "execution_count": 52,
   "metadata": {},
   "outputs": [
    {
     "data": {
      "text/html": [
       "<div>\n",
       "<style>\n",
       "    .dataframe thead tr:only-child th {\n",
       "        text-align: right;\n",
       "    }\n",
       "\n",
       "    .dataframe thead th {\n",
       "        text-align: left;\n",
       "    }\n",
       "\n",
       "    .dataframe tbody tr th {\n",
       "        vertical-align: top;\n",
       "    }\n",
       "</style>\n",
       "<table border=\"1\" class=\"dataframe\">\n",
       "  <thead>\n",
       "    <tr style=\"text-align: right;\">\n",
       "      <th></th>\n",
       "      <th>Station</th>\n",
       "      <th>Count</th>\n",
       "    </tr>\n",
       "  </thead>\n",
       "  <tbody>\n",
       "    <tr>\n",
       "      <th>0</th>\n",
       "      <td>South Station - 700 Atlantic Ave.</td>\n",
       "      <td>56123</td>\n",
       "    </tr>\n",
       "    <tr>\n",
       "      <th>1</th>\n",
       "      <td>Boston Public Library - 700 Boylston St.</td>\n",
       "      <td>41994</td>\n",
       "    </tr>\n",
       "    <tr>\n",
       "      <th>2</th>\n",
       "      <td>Charles Circle - Charles St. at Cambridge St.</td>\n",
       "      <td>35984</td>\n",
       "    </tr>\n",
       "    <tr>\n",
       "      <th>3</th>\n",
       "      <td>Beacon St / Mass Ave</td>\n",
       "      <td>35275</td>\n",
       "    </tr>\n",
       "    <tr>\n",
       "      <th>4</th>\n",
       "      <td>MIT at Mass Ave / Amherst St</td>\n",
       "      <td>33644</td>\n",
       "    </tr>\n",
       "    <tr>\n",
       "      <th>5</th>\n",
       "      <td>Back Bay / South End Station</td>\n",
       "      <td>32677</td>\n",
       "    </tr>\n",
       "    <tr>\n",
       "      <th>6</th>\n",
       "      <td>Boylston St. at Arlington St.</td>\n",
       "      <td>32410</td>\n",
       "    </tr>\n",
       "    <tr>\n",
       "      <th>7</th>\n",
       "      <td>Kenmore Sq / Comm Ave</td>\n",
       "      <td>30835</td>\n",
       "    </tr>\n",
       "    <tr>\n",
       "      <th>8</th>\n",
       "      <td>The Esplanade - Beacon St. at Arlington St.</td>\n",
       "      <td>28119</td>\n",
       "    </tr>\n",
       "    <tr>\n",
       "      <th>9</th>\n",
       "      <td>Newbury St / Hereford St</td>\n",
       "      <td>26733</td>\n",
       "    </tr>\n",
       "  </tbody>\n",
       "</table>\n",
       "</div>"
      ],
      "text/plain": [
       "                                         Station  Count\n",
       "0              South Station - 700 Atlantic Ave.  56123\n",
       "1       Boston Public Library - 700 Boylston St.  41994\n",
       "2  Charles Circle - Charles St. at Cambridge St.  35984\n",
       "3                           Beacon St / Mass Ave  35275\n",
       "4                   MIT at Mass Ave / Amherst St  33644\n",
       "5                   Back Bay / South End Station  32677\n",
       "6                  Boylston St. at Arlington St.  32410\n",
       "7                          Kenmore Sq / Comm Ave  30835\n",
       "8    The Esplanade - Beacon St. at Arlington St.  28119\n",
       "9                       Newbury St / Hereford St  26733"
      ]
     },
     "execution_count": 52,
     "metadata": {},
     "output_type": "execute_result"
    }
   ],
   "source": [
    "query = '''\n",
    "SELECT stations.station AS \"Station\", COUNT(*) AS \"Count\"\n",
    "FROM trips \n",
    "JOIN stations\n",
    "ON trips.start_station = stations.id\n",
    "GROUP BY stations.station\n",
    "ORDER BY COUNT(*) DESC\n",
    "LIMIT 10;\n",
    "'''\n",
    "\n",
    "run_query(query, con)"
   ]
  },
  {
   "cell_type": "code",
   "execution_count": 54,
   "metadata": {},
   "outputs": [
    {
     "data": {
      "text/html": [
       "<div>\n",
       "<style>\n",
       "    .dataframe thead tr:only-child th {\n",
       "        text-align: right;\n",
       "    }\n",
       "\n",
       "    .dataframe thead th {\n",
       "        text-align: left;\n",
       "    }\n",
       "\n",
       "    .dataframe tbody tr th {\n",
       "        vertical-align: top;\n",
       "    }\n",
       "</style>\n",
       "<table border=\"1\" class=\"dataframe\">\n",
       "  <thead>\n",
       "    <tr style=\"text-align: right;\">\n",
       "      <th></th>\n",
       "      <th>Station</th>\n",
       "      <th>Count</th>\n",
       "    </tr>\n",
       "  </thead>\n",
       "  <tbody>\n",
       "    <tr>\n",
       "      <th>0</th>\n",
       "      <td>The Esplanade - Beacon St. at Arlington St.</td>\n",
       "      <td>3064</td>\n",
       "    </tr>\n",
       "    <tr>\n",
       "      <th>1</th>\n",
       "      <td>Charles Circle - Charles St. at Cambridge St.</td>\n",
       "      <td>2739</td>\n",
       "    </tr>\n",
       "    <tr>\n",
       "      <th>2</th>\n",
       "      <td>Boston Public Library - 700 Boylston St.</td>\n",
       "      <td>2548</td>\n",
       "    </tr>\n",
       "    <tr>\n",
       "      <th>3</th>\n",
       "      <td>Boylston St. at Arlington St.</td>\n",
       "      <td>2163</td>\n",
       "    </tr>\n",
       "    <tr>\n",
       "      <th>4</th>\n",
       "      <td>Beacon St / Mass Ave</td>\n",
       "      <td>2144</td>\n",
       "    </tr>\n",
       "    <tr>\n",
       "      <th>5</th>\n",
       "      <td>Newbury St / Hereford St</td>\n",
       "      <td>1636</td>\n",
       "    </tr>\n",
       "    <tr>\n",
       "      <th>6</th>\n",
       "      <td>Prudential Center / Belvidere</td>\n",
       "      <td>1590</td>\n",
       "    </tr>\n",
       "    <tr>\n",
       "      <th>7</th>\n",
       "      <td>South Station - 700 Atlantic Ave.</td>\n",
       "      <td>1517</td>\n",
       "    </tr>\n",
       "    <tr>\n",
       "      <th>8</th>\n",
       "      <td>Christian Science Plaza</td>\n",
       "      <td>1482</td>\n",
       "    </tr>\n",
       "    <tr>\n",
       "      <th>9</th>\n",
       "      <td>Kenmore Sq / Comm Ave</td>\n",
       "      <td>1439</td>\n",
       "    </tr>\n",
       "  </tbody>\n",
       "</table>\n",
       "</div>"
      ],
      "text/plain": [
       "                                         Station  Count\n",
       "0    The Esplanade - Beacon St. at Arlington St.   3064\n",
       "1  Charles Circle - Charles St. at Cambridge St.   2739\n",
       "2       Boston Public Library - 700 Boylston St.   2548\n",
       "3                  Boylston St. at Arlington St.   2163\n",
       "4                           Beacon St / Mass Ave   2144\n",
       "5                       Newbury St / Hereford St   1636\n",
       "6                  Prudential Center / Belvidere   1590\n",
       "7              South Station - 700 Atlantic Ave.   1517\n",
       "8                        Christian Science Plaza   1482\n",
       "9                          Kenmore Sq / Comm Ave   1439"
      ]
     },
     "execution_count": 54,
     "metadata": {},
     "output_type": "execute_result"
    }
   ],
   "source": [
    "query = '''\n",
    "SELECT stations.station AS \"Station\", COUNT(*) AS \"Count\"\n",
    "FROM trips \n",
    "JOIN stations\n",
    "ON trips.start_station = stations.id\n",
    "WHERE trips.start_station = trips.end_station\n",
    "GROUP BY stations.station\n",
    "ORDER BY COUNT(*) DESC\n",
    "LIMIT 10;\n",
    "'''\n",
    "\n",
    "run_query(query, con)"
   ]
  },
  {
   "cell_type": "code",
   "execution_count": 55,
   "metadata": {},
   "outputs": [
    {
     "data": {
      "text/html": [
       "<div>\n",
       "<style>\n",
       "    .dataframe thead tr:only-child th {\n",
       "        text-align: right;\n",
       "    }\n",
       "\n",
       "    .dataframe thead th {\n",
       "        text-align: left;\n",
       "    }\n",
       "\n",
       "    .dataframe tbody tr th {\n",
       "        vertical-align: top;\n",
       "    }\n",
       "</style>\n",
       "<table border=\"1\" class=\"dataframe\">\n",
       "  <thead>\n",
       "    <tr style=\"text-align: right;\">\n",
       "      <th></th>\n",
       "      <th>Count</th>\n",
       "    </tr>\n",
       "  </thead>\n",
       "  <tbody>\n",
       "    <tr>\n",
       "      <th>0</th>\n",
       "      <td>309748</td>\n",
       "    </tr>\n",
       "  </tbody>\n",
       "</table>\n",
       "</div>"
      ],
      "text/plain": [
       "    Count\n",
       "0  309748"
      ]
     },
     "execution_count": 55,
     "metadata": {},
     "output_type": "execute_result"
    }
   ],
   "source": [
    "query = '''\n",
    "SELECT COUNT(trips.id) AS \"Count\"\n",
    "FROM trips \n",
    "JOIN stations AS start\n",
    "ON trips.start_station = start.id\n",
    "JOIN stations AS end\n",
    "ON trips.end_station = end.id\n",
    "WHERE start.municipality <> end.municipality;\n",
    "'''\n",
    "\n",
    "run_query(query, con)\n"
   ]
  },
  {
   "cell_type": "code",
   "execution_count": 65,
   "metadata": {},
   "outputs": [
    {
     "data": {
      "text/html": [
       "<div>\n",
       "<style>\n",
       "    .dataframe thead tr:only-child th {\n",
       "        text-align: right;\n",
       "    }\n",
       "\n",
       "    .dataframe thead th {\n",
       "        text-align: left;\n",
       "    }\n",
       "\n",
       "    .dataframe tbody tr th {\n",
       "        vertical-align: top;\n",
       "    }\n",
       "</style>\n",
       "<table border=\"1\" class=\"dataframe\">\n",
       "  <thead>\n",
       "    <tr style=\"text-align: right;\">\n",
       "      <th></th>\n",
       "      <th>zip code</th>\n",
       "      <th>Ride length</th>\n",
       "    </tr>\n",
       "  </thead>\n",
       "  <tbody>\n",
       "    <tr>\n",
       "      <th>0</th>\n",
       "      <td>'02116</td>\n",
       "      <td>9905</td>\n",
       "    </tr>\n",
       "    <tr>\n",
       "      <th>1</th>\n",
       "      <td>'01915</td>\n",
       "      <td>9953</td>\n",
       "    </tr>\n",
       "    <tr>\n",
       "      <th>2</th>\n",
       "      <td>'02120</td>\n",
       "      <td>9995</td>\n",
       "    </tr>\n",
       "    <tr>\n",
       "      <th>3</th>\n",
       "      <td>'02118</td>\n",
       "      <td>9968</td>\n",
       "    </tr>\n",
       "    <tr>\n",
       "      <th>4</th>\n",
       "      <td>'02108</td>\n",
       "      <td>9920</td>\n",
       "    </tr>\n",
       "    <tr>\n",
       "      <th>5</th>\n",
       "      <td>'02482</td>\n",
       "      <td>9980</td>\n",
       "    </tr>\n",
       "    <tr>\n",
       "      <th>6</th>\n",
       "      <td>'02482</td>\n",
       "      <td>9927</td>\n",
       "    </tr>\n",
       "    <tr>\n",
       "      <th>7</th>\n",
       "      <td>'02038</td>\n",
       "      <td>9982</td>\n",
       "    </tr>\n",
       "    <tr>\n",
       "      <th>8</th>\n",
       "      <td>'02116</td>\n",
       "      <td>9938</td>\n",
       "    </tr>\n",
       "    <tr>\n",
       "      <th>9</th>\n",
       "      <td>'02215</td>\n",
       "      <td>9945</td>\n",
       "    </tr>\n",
       "  </tbody>\n",
       "</table>\n",
       "</div>"
      ],
      "text/plain": [
       "  zip code  Ride length\n",
       "0   '02116         9905\n",
       "1   '01915         9953\n",
       "2   '02120         9995\n",
       "3   '02118         9968\n",
       "4   '02108         9920\n",
       "5   '02482         9980\n",
       "6   '02482         9927\n",
       "7   '02038         9982\n",
       "8   '02116         9938\n",
       "9   '02215         9945"
      ]
     },
     "execution_count": 65,
     "metadata": {},
     "output_type": "execute_result"
    }
   ],
   "source": [
    "query = '''\n",
    "SELECT zip_code AS \"zip code\", \n",
    "duration AS \"Ride length\"\n",
    "FROM trips\n",
    "WHERE (duration > 9900) AND (sub_type = 'Registered')\n",
    "ORDER BY birth_date \n",
    "LIMIT 10;\n",
    "'''\n",
    "run_query(query, con)\n"
   ]
  },
  {
   "cell_type": "code",
   "execution_count": 67,
   "metadata": {},
   "outputs": [
    {
     "data": {
      "text/html": [
       "<div>\n",
       "<style>\n",
       "    .dataframe thead tr:only-child th {\n",
       "        text-align: right;\n",
       "    }\n",
       "\n",
       "    .dataframe thead th {\n",
       "        text-align: left;\n",
       "    }\n",
       "\n",
       "    .dataframe tbody tr th {\n",
       "        vertical-align: top;\n",
       "    }\n",
       "</style>\n",
       "<table border=\"1\" class=\"dataframe\">\n",
       "  <thead>\n",
       "    <tr style=\"text-align: right;\">\n",
       "      <th></th>\n",
       "      <th>COUNT(sub_type)</th>\n",
       "    </tr>\n",
       "  </thead>\n",
       "  <tbody>\n",
       "    <tr>\n",
       "      <th>0</th>\n",
       "      <td>1105192</td>\n",
       "    </tr>\n",
       "  </tbody>\n",
       "</table>\n",
       "</div>"
      ],
      "text/plain": [
       "   COUNT(sub_type)\n",
       "0          1105192"
      ]
     },
     "execution_count": 67,
     "metadata": {},
     "output_type": "execute_result"
    }
   ],
   "source": [
    "query = '''\n",
    "SELECT COUNT(sub_type)\n",
    "FROM trips\n",
    "WHERE sub_type = \"Registered\";\n",
    "'''\n",
    "\n",
    "run_query(query, con)"
   ]
  },
  {
   "cell_type": "code",
   "execution_count": null,
   "metadata": {
    "collapsed": true
   },
   "outputs": [],
   "source": [
    "query = '''\n",
    "SELECT stations.station AS \"Station\", COUNT(*) AS \"Count\"\n",
    "FROM trips \n",
    "JOIN stations\n",
    "ON trips.start_station = stations.id\n",
    "GROUP BY stations.station\n",
    "ORDER BY COUNT(*) DESC\n",
    "LIMIT 5;\n",
    "'''\n",
    "\n",
    "run_query(query, con)"
   ]
  },
  {
   "cell_type": "code",
   "execution_count": null,
   "metadata": {
    "collapsed": true
   },
   "outputs": [],
   "source": [
    "query = '''\n",
    "SELECT stations.station AS \"Station\", COUNT(*) AS \"Count\"\n",
    "FROM trips \n",
    "JOIN stations\n",
    "ON trips.start_station = stations.id\n",
    "WHERE trips.start_station = trips.end_station\n",
    "GROUP BY stations.station\n",
    "ORDER BY COUNT(*) DESC\n",
    "LIMIT 5;\n",
    "'''\n",
    "\n",
    "run_query(query, con)\n"
   ]
  },
  {
   "cell_type": "code",
   "execution_count": null,
   "metadata": {
    "collapsed": true
   },
   "outputs": [],
   "source": [
    "query = '''\n",
    "SELECT COUNT(trips.id) AS \"Count\"\n",
    "FROM trips \n",
    "JOIN stations AS start\n",
    "ON trips.start_station = start.id\n",
    "JOIN stations AS end\n",
    "ON trips.end_station = end.id\n",
    "WHERE start.municipality <> end.municipality;\n",
    "'''\n",
    "\n",
    "run_query(query, con)"
   ]
  },
  {
   "cell_type": "markdown",
   "metadata": {},
   "source": [
    "## Data Visualization with Pandas, Seaborn & Matplotlib"
   ]
  },
  {
   "cell_type": "code",
   "execution_count": null,
   "metadata": {
    "collapsed": true
   },
   "outputs": [],
   "source": [
    "cols = ['AP Test Takers ', 'Total Exams Taken', 'Number of Exams with scores 3 4 or 5']\n",
    "\n",
    "for col in cols:\n",
    "    full[col] = full[col].convert_objects(convert_numeric=True)\n",
    "\n",
    "full[cols] = full[cols].fillna(value=0)"
   ]
  },
  {
   "cell_type": "code",
   "execution_count": null,
   "metadata": {
    "collapsed": true
   },
   "outputs": [],
   "source": []
  },
  {
   "cell_type": "code",
   "execution_count": 103,
   "metadata": {
    "collapsed": true
   },
   "outputs": [],
   "source": [
    "data_registered = pd.read_sql_query(\"SELECT * FROM trips WHERE sub_type = 'Registered' \",con)\n",
    "data_casual = pd.read_sql_query(\"SELECT birth_date, start_station, end_station, duration FROM trips WHERE sub_type = 'Casual' \",con)"
   ]
  },
  {
   "cell_type": "code",
   "execution_count": 104,
   "metadata": {
    "collapsed": true
   },
   "outputs": [],
   "source": [
    "data_registered['birth_date_numeric']    = pd.to_numeric(data_registered['birth_date'], errors='ignore')\n",
    "data_registered['duration_numeric']      = pd.to_numeric(data_registered['duration'], errors='ignore')\n",
    "data_registered['start_station_numeric'] = pd.to_numeric(data_registered['start_station'], errors='ignore')\n",
    "data_registered['end_station_numeric']   = pd.to_numeric(data_registered['end_station'], errors='ignore')\n"
   ]
  },
  {
   "cell_type": "code",
   "execution_count": 105,
   "metadata": {},
   "outputs": [
    {
     "data": {
      "text/plain": [
       "464809"
      ]
     },
     "execution_count": 105,
     "metadata": {},
     "output_type": "execute_result"
    }
   ],
   "source": [
    "data_casual['birth_date_numeric']    = pd.to_numeric(data_casual['birth_date'], errors='ignore')\n",
    "data_casual['duration_numeric']      = pd.to_numeric(data_casual['duration'], errors='ignore')\n",
    "data_casual['start_station_numeric'] = pd.to_numeric(data_casual['start_station'], errors='ignore')\n",
    "data_casual['end_station_numeric']   = pd.to_numeric(data_casual['end_station'], errors='ignore')\n",
    "len(data_casual['end_station_numeric'])"
   ]
  },
  {
   "cell_type": "code",
   "execution_count": 106,
   "metadata": {
    "collapsed": true
   },
   "outputs": [],
   "source": [
    "data_registered = data_registered.dropna(axis = 0, how = 'any')"
   ]
  },
  {
   "cell_type": "code",
   "execution_count": 102,
   "metadata": {
    "collapsed": true
   },
   "outputs": [],
   "source": [
    "data_casual = data_casual.dropna(axis = 0, how = 'any')\n"
   ]
  },
  {
   "cell_type": "code",
   "execution_count": 107,
   "metadata": {
    "collapsed": true
   },
   "outputs": [],
   "source": [
    "def array_converter(feature, sub_type):\n",
    "    \n",
    "    array = []\n",
    "    if sub_type == 'Casual':\n",
    "        for i in (data_casual[feature]):\n",
    "    \n",
    "            if np.isfinite(i) == True:\n",
    "                array.append(i)\n",
    "        \n",
    "            else:\n",
    "                array.append(np.nan)\n",
    "                \n",
    "    elif sub_type == 'Registered':\n",
    "        for i in (data_registered[feature]):\n",
    "    \n",
    "            if np.isfinite(i) == True:\n",
    "                array.append(i)\n",
    "        \n",
    "            else:\n",
    "                array.append(np.nan)\n",
    "    else:\n",
    "        print \"Error. Sub_type must be 'Registered' or 'Casual'. \"\n",
    "        \n",
    "    array = np.array(array)\n",
    "    return(array)"
   ]
  },
  {
   "cell_type": "code",
   "execution_count": 108,
   "metadata": {},
   "outputs": [
    {
     "data": {
      "text/plain": [
       "464809"
      ]
     },
     "execution_count": 108,
     "metadata": {},
     "output_type": "execute_result"
    }
   ],
   "source": [
    "len(array_converter('end_station_numeric', 'Casual'    ))"
   ]
  },
  {
   "cell_type": "code",
   "execution_count": 109,
   "metadata": {},
   "outputs": [
    {
     "data": {
      "image/png": "[encoded data removed]",
      "text/plain": [
       "<matplotlib.figure.Figure at 0x11da57650>"
      ]
     },
     "metadata": {},
     "output_type": "display_data"
    }
   ],
   "source": [
    "plt.figure(figsize = (8, 5))\n",
    "plt.subplot(121)\n",
    "kde_plotter(array_converter('start_station_numeric', 'Registered'), array_converter('end_station_numeric', 'Registered'))\n",
    "\n",
    "plt.subplot(122)\n",
    "kde_plotter(array_converter('start_station_numeric', 'Casual'    ), array_converter('end_station_numeric', 'Casual'    ))\n"
   ]
  },
  {
   "cell_type": "code",
   "execution_count": 56,
   "metadata": {},
   "outputs": [
    {
     "data": {
      "image/png": "[encoded data removed]",
      "text/plain": [
       "<matplotlib.figure.Figure at 0x1187c1d90>"
      ]
     },
     "metadata": {},
     "output_type": "display_data"
    }
   ],
   "source": [
    "kde_plotter(array_converter('birth_date_numeric', 'Registered'), array_converter('duration_numeric', 'Registered'))\n"
   ]
  },
  {
   "cell_type": "code",
   "execution_count": 29,
   "metadata": {},
   "outputs": [
    {
     "data": {
      "text/plain": [
       "id                       0\n",
       "duration                 0\n",
       "start_date               0\n",
       "start_station            0\n",
       "end_date                 0\n",
       "end_station              0\n",
       "bike_number              0\n",
       "sub_type                 0\n",
       "zip_code                 0\n",
       "birth_date               0\n",
       "gender                   0\n",
       "duration_numeric         0\n",
       "start_station_numeric    0\n",
       "end_station_numeric      0\n",
       "birth_date_numeric       0\n",
       "zip_code_numeric         0\n",
       "dtype: int64"
      ]
     },
     "execution_count": 29,
     "metadata": {},
     "output_type": "execute_result"
    }
   ],
   "source": [
    "data.isnull().sum()"
   ]
  },
  {
   "cell_type": "code",
   "execution_count": 23,
   "metadata": {
    "collapsed": true
   },
   "outputs": [],
   "source": [
    "data['duration_numeric'] = pd.to_numeric(data['duration'], errors='coerce').fillna(0)\n",
    "data['start_station_numeric'] = pd.to_numeric(data['start_station'], errors='coerce').fillna(0)\n",
    "data['end_station_numeric'] = pd.to_numeric(data['end_station'], errors='coerce').fillna(0)\n",
    "data['birth_date_numeric'] = pd.to_numeric(data['birth_date'], errors='coerce').fillna(0)\n",
    "data['zip_code_numeric'] = pd.to_numeric(data['zip_code'], errors='coerce').fillna(0)"
   ]
  },
  {
   "cell_type": "code",
   "execution_count": 99,
   "metadata": {
    "collapsed": true
   },
   "outputs": [],
   "source": [
    "def kde_plotter(feature_x, feature_y):\n",
    "    \n",
    "    N = 100000\n",
    "    randomize = np.random.randint(len(feature_x), size=N)\n",
    "    \n",
    "    \n",
    "    x = feature_x\n",
    "    y = feature_y\n",
    "    \n",
    "    x = x[randomize]\n",
    "    y = y[randomize]\n",
    "    \n",
    "    \n",
    "    sns.kdeplot(x, y, shade=True)\n",
    "    "
   ]
  },
  {
   "cell_type": "code",
   "execution_count": 33,
   "metadata": {},
   "outputs": [
    {
     "data": {
      "image/png": "[encoded data removed]",
      "text/plain": [
       "<matplotlib.figure.Figure at 0x115dcb890>"
      ]
     },
     "metadata": {},
     "output_type": "display_data"
    }
   ],
   "source": [
    "kde_plotter(data['start_station_numeric'], data['end_station_numeric'])"
   ]
  },
  {
   "cell_type": "code",
   "execution_count": 45,
   "metadata": {
    "collapsed": true
   },
   "outputs": [],
   "source": [
    "def histogram_it(feature, bins):\n",
    "    ax = plt.subplot(111)\n",
    "    sns.distplot(data[feature][data.sub_type == 'Registered'], bins= np.linspace(np.min(data[feature]), np.max(data[feature]), bins), label = 'Registered' )\n",
    "    sns.distplot(data[feature][data.sub_type == 'Casual'], bins= np.linspace(np.min(data[feature]), np.max(data[feature]), bins), label = 'Casual')\n",
    "    ax.set_xlabel(feature)\n",
    "    ax.set_ylabel('%')\n",
    "    ax.set_title('histogram of feature: ' + feature )\n",
    "    ax.legend(loc = 'upper right')"
   ]
  },
  {
   "cell_type": "code",
   "execution_count": 48,
   "metadata": {},
   "outputs": [
    {
     "data": {
      "image/png": "[encoded data removed]",
      "text/plain": [
       "<matplotlib.figure.Figure at 0x16955ead0>"
      ]
     },
     "metadata": {},
     "output_type": "display_data"
    }
   ],
   "source": [
    "histogram_it('duration' , 30)"
   ]
  },
  {
   "cell_type": "code",
   "execution_count": 88,
   "metadata": {},
   "outputs": [
    {
     "data": {
      "text/plain": [
       "<matplotlib.text.Text at 0x13bccfc10>"
      ]
     },
     "execution_count": 88,
     "metadata": {},
     "output_type": "execute_result"
    },
    {
     "data": {
      "image/png": "[encoded data removed]",
      "text/plain": [
       "<matplotlib.figure.Figure at 0x13a984450>"
      ]
     },
     "metadata": {},
     "output_type": "display_data"
    }
   ],
   "source": [
    "plt.hist(data['birth_date_numeric'][data.sub_type == 'Registered'], bins = np.linspace(1940, 2010, 20));\n",
    "plt.xlabel('birth date (year)')\n",
    "plt.ylabel('number of people')\n",
    "plt.title('Birth dates of registered customers')"
   ]
  },
  {
   "cell_type": "code",
   "execution_count": 42,
   "metadata": {
    "collapsed": true
   },
   "outputs": [],
   "source": [
    "sys.path.append('/Users/am2786/Downloads/basemap-1.1.0/lib/mpl_toolkits')\n",
    "from mpl_toolkits.basemap import Basemap"
   ]
  },
  {
   "cell_type": "code",
   "execution_count": 50,
   "metadata": {
    "collapsed": true
   },
   "outputs": [],
   "source": [
    "data_stations = pd.read_sql_query('SELECT * FROM stations',con)"
   ]
  },
  {
   "cell_type": "code",
   "execution_count": 53,
   "metadata": {},
   "outputs": [
    {
     "data": {
      "text/plain": [
       "id              0\n",
       "station         0\n",
       "municipality    0\n",
       "lat             0\n",
       "lng             0\n",
       "dtype: int64"
      ]
     },
     "execution_count": 53,
     "metadata": {},
     "output_type": "execute_result"
    }
   ],
   "source": [
    "data_stations.isnull().sum()"
   ]
  },
  {
   "cell_type": "code",
   "execution_count": 66,
   "metadata": {
    "scrolled": true
   },
   "outputs": [
    {
     "data": {
      "text/html": [
       "<div style=\"width:100%;\"><div style=\"position:relative;width:100%;height:0;padding-bottom:60%;\"><iframe src=\"data:text/html;base64,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\" style=\"position:absolute;width:100%;height:100%;left:0;top:0;\"></iframe></div></div>"
      ],
      "text/plain": [
       "<folium.folium.Map at 0x131e49b50>"
      ]
     },
     "execution_count": 66,
     "metadata": {},
     "output_type": "execute_result"
    }
   ],
   "source": [
    "locations_heatmap = folium.Map(location=[ float(data_stations['lat'][0]), float(data_stations['lng'][0]) ], zoom_start = 12 )\n",
    "lat = data_stations['lat']\n",
    "lon = data_stations['lng']\n",
    "name = data_stations['station']\n",
    "for i in range(len(lat)):\n",
    "    name_i = name[i]\n",
    "    folium.Marker([ float(lat[i]), float(lon[i]) ], popup = '%s' %name_i).add_to(locations_heatmap)\n",
    "    \n",
    "locations_heatmap"
   ]
  }
 ],
 "metadata": {
  "kernelspec": {
   "display_name": "Python 2",
   "language": "python",
   "name": "python2"
  },
  "language_info": {
   "codemirror_mode": {
    "name": "ipython",
    "version": 2
   },
   "file_extension": ".py",
   "mimetype": "text/x-python",
   "name": "python",
   "nbconvert_exporter": "python",
   "pygments_lexer": "ipython2",
   "version": "2.7.13"
  }
 },
 "nbformat": 4,
 "nbformat_minor": 2
}
